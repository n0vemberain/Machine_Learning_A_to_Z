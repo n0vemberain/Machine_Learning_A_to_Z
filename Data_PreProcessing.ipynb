{
  "nbformat": 4,
  "nbformat_minor": 0,
  "metadata": {
    "colab": {
      "provenance": [],
      "authorship_tag": "ABX9TyOf0lVHCoyAyZL8LBBla6OL",
      "include_colab_link": true
    },
    "kernelspec": {
      "name": "python3",
      "display_name": "Python 3"
    },
    "language_info": {
      "name": "python"
    }
  },
  "cells": [
    {
      "cell_type": "markdown",
      "metadata": {
        "id": "view-in-github",
        "colab_type": "text"
      },
      "source": [
        "<a href=\"https://colab.research.google.com/github/n0vemberain/Machine_Learning_A_to_Z/blob/main/Data_PreProcessing.ipynb\" target=\"_parent\"><img src=\"https://colab.research.google.com/assets/colab-badge.svg\" alt=\"Open In Colab\"/></a>"
      ]
    },
    {
      "cell_type": "markdown",
      "source": [],
      "metadata": {
        "id": "Zac6w59VieoZ"
      }
    },
    {
      "cell_type": "markdown",
      "source": [
        "# Importing Libraries"
      ],
      "metadata": {
        "id": "8xA7G6HLigC6"
      }
    },
    {
      "cell_type": "code",
      "source": [
        "import numpy as np\n",
        "import matplotlib.pyplot as plt\n",
        "import pandas as pd"
      ],
      "metadata": {
        "id": "MsuZmo6uiwJq"
      },
      "execution_count": 1,
      "outputs": []
    },
    {
      "cell_type": "markdown",
      "source": [
        "# Importing Data Set"
      ],
      "metadata": {
        "id": "C50eUsjfkv_e"
      }
    },
    {
      "cell_type": "markdown",
      "source": [],
      "metadata": {
        "id": "yDO2PaEYk0AV"
      }
    },
    {
      "cell_type": "code",
      "source": [
        "dataset = pd.read_csv('Data-2.csv')\n",
        "X = dataset.iloc[:,:-1].values\n",
        "y = dataset.iloc[:,-1].values"
      ],
      "metadata": {
        "id": "VhFTPw_XlE1n"
      },
      "execution_count": 3,
      "outputs": []
    },
    {
      "cell_type": "code",
      "source": [
        "print(X)"
      ],
      "metadata": {
        "colab": {
          "base_uri": "https://localhost:8080/"
        },
        "id": "5oAil2lwopZN",
        "outputId": "fb0c577f-75ae-4cc1-aa8a-80aa0c7317b5"
      },
      "execution_count": 4,
      "outputs": [
        {
          "output_type": "stream",
          "name": "stdout",
          "text": [
            "[['France' 25.0 50000.0]\n",
            " ['France' 30.0 60000.0]\n",
            " ['India' nan 52000.0]\n",
            " ['India' 35.0 nan]\n",
            " ['Germany' 40.0 70000.0]\n",
            " ['UK' 22.0 nan]\n",
            " ['USA' nan 48000.0]\n",
            " ['India' 29.0 55000.0]\n",
            " ['UK' 31.0 62000.0]\n",
            " ['UK' 28.0 58000.0]\n",
            " ['France' 45.0 nan]\n",
            " ['UK' nan 75000.0]\n",
            " ['France' 38.0 72000.0]\n",
            " ['Germany' 26.0 63000.0]\n",
            " ['UK' 27.0 54000.0]\n",
            " ['France' nan nan]\n",
            " ['Germany' 33.0 66000.0]\n",
            " ['USA' 34.0 68000.0]\n",
            " ['Germany' 36.0 56000.0]\n",
            " ['France' 32.0 59000.0]]\n"
          ]
        }
      ]
    },
    {
      "cell_type": "code",
      "source": [
        "print(y)"
      ],
      "metadata": {
        "colab": {
          "base_uri": "https://localhost:8080/"
        },
        "id": "OMssfZH7orEu",
        "outputId": "af9825a9-c06d-41a1-d9a5-93a91b8bcd3a"
      },
      "execution_count": 5,
      "outputs": [
        {
          "output_type": "stream",
          "name": "stdout",
          "text": [
            "['Yes' 'No' 'Yes' 'Yes' 'No' 'Yes' 'No' 'Yes' 'Yes' 'Yes' 'Yes' 'No' 'Yes'\n",
            " 'Yes' 'No' 'Yes' 'No' 'Yes' 'Yes' 'No']\n"
          ]
        }
      ]
    },
    {
      "cell_type": "markdown",
      "source": [
        "# Taking Care of missing data"
      ],
      "metadata": {
        "id": "W-i6135ApB8g"
      }
    },
    {
      "cell_type": "code",
      "source": [
        "from sklearn.impute import SimpleImputer\n",
        "imputer = SimpleImputer(missing_values = np.nan, strategy= 'mean')\n",
        "imputer.fit(X[:,1:3])\n",
        "X[:,1:3]=imputer.transform(X[:,1:3])"
      ],
      "metadata": {
        "id": "w9iTSXWKq7VJ"
      },
      "execution_count": 6,
      "outputs": []
    },
    {
      "cell_type": "code",
      "source": [
        "print(X)"
      ],
      "metadata": {
        "colab": {
          "base_uri": "https://localhost:8080/"
        },
        "id": "MYAglwEquY4l",
        "outputId": "c770dc2b-f322-49a7-de2c-fbeafb39559e"
      },
      "execution_count": 7,
      "outputs": [
        {
          "output_type": "stream",
          "name": "stdout",
          "text": [
            "[['France' 25.0 50000.0]\n",
            " ['France' 30.0 60000.0]\n",
            " ['India' 31.9375 52000.0]\n",
            " ['India' 35.0 60500.0]\n",
            " ['Germany' 40.0 70000.0]\n",
            " ['UK' 22.0 60500.0]\n",
            " ['USA' 31.9375 48000.0]\n",
            " ['India' 29.0 55000.0]\n",
            " ['UK' 31.0 62000.0]\n",
            " ['UK' 28.0 58000.0]\n",
            " ['France' 45.0 60500.0]\n",
            " ['UK' 31.9375 75000.0]\n",
            " ['France' 38.0 72000.0]\n",
            " ['Germany' 26.0 63000.0]\n",
            " ['UK' 27.0 54000.0]\n",
            " ['France' 31.9375 60500.0]\n",
            " ['Germany' 33.0 66000.0]\n",
            " ['USA' 34.0 68000.0]\n",
            " ['Germany' 36.0 56000.0]\n",
            " ['France' 32.0 59000.0]]\n"
          ]
        }
      ]
    },
    {
      "cell_type": "markdown",
      "source": [
        "# Encoding Categorical Data Independent Data"
      ],
      "metadata": {
        "id": "AHO7v6Vmuxv-"
      }
    },
    {
      "cell_type": "code",
      "source": [
        "from sklearn.compose import ColumnTransformer\n",
        "from sklearn.preprocessing import OneHotEncoder\n",
        "ct = ColumnTransformer(transformers=[('encoder',OneHotEncoder(),[0])], remainder='passthrough')\n",
        "X =np.array(ct.fit_transform(X))"
      ],
      "metadata": {
        "id": "LkqW4n1Yu4Ay"
      },
      "execution_count": 8,
      "outputs": []
    },
    {
      "cell_type": "code",
      "source": [
        "print(X)"
      ],
      "metadata": {
        "colab": {
          "base_uri": "https://localhost:8080/"
        },
        "id": "le2G8hQ0yUwa",
        "outputId": "f6aaf226-8067-4311-db0f-254a363f46d3"
      },
      "execution_count": 9,
      "outputs": [
        {
          "output_type": "stream",
          "name": "stdout",
          "text": [
            "[[1.0 0.0 0.0 0.0 0.0 25.0 50000.0]\n",
            " [1.0 0.0 0.0 0.0 0.0 30.0 60000.0]\n",
            " [0.0 0.0 1.0 0.0 0.0 31.9375 52000.0]\n",
            " [0.0 0.0 1.0 0.0 0.0 35.0 60500.0]\n",
            " [0.0 1.0 0.0 0.0 0.0 40.0 70000.0]\n",
            " [0.0 0.0 0.0 1.0 0.0 22.0 60500.0]\n",
            " [0.0 0.0 0.0 0.0 1.0 31.9375 48000.0]\n",
            " [0.0 0.0 1.0 0.0 0.0 29.0 55000.0]\n",
            " [0.0 0.0 0.0 1.0 0.0 31.0 62000.0]\n",
            " [0.0 0.0 0.0 1.0 0.0 28.0 58000.0]\n",
            " [1.0 0.0 0.0 0.0 0.0 45.0 60500.0]\n",
            " [0.0 0.0 0.0 1.0 0.0 31.9375 75000.0]\n",
            " [1.0 0.0 0.0 0.0 0.0 38.0 72000.0]\n",
            " [0.0 1.0 0.0 0.0 0.0 26.0 63000.0]\n",
            " [0.0 0.0 0.0 1.0 0.0 27.0 54000.0]\n",
            " [1.0 0.0 0.0 0.0 0.0 31.9375 60500.0]\n",
            " [0.0 1.0 0.0 0.0 0.0 33.0 66000.0]\n",
            " [0.0 0.0 0.0 0.0 1.0 34.0 68000.0]\n",
            " [0.0 1.0 0.0 0.0 0.0 36.0 56000.0]\n",
            " [1.0 0.0 0.0 0.0 0.0 32.0 59000.0]]\n"
          ]
        }
      ]
    },
    {
      "cell_type": "markdown",
      "source": [
        "# Encoding Dependent Data"
      ],
      "metadata": {
        "id": "jpqmPDeq2zR3"
      }
    },
    {
      "cell_type": "code",
      "source": [
        "from sklearn.preprocessing import LabelEncoder\n",
        "le = LabelEncoder()\n",
        "y = le.fit_transform(y)"
      ],
      "metadata": {
        "id": "zL_oIYbm24Qk"
      },
      "execution_count": 10,
      "outputs": []
    },
    {
      "cell_type": "code",
      "source": [
        "print(y)"
      ],
      "metadata": {
        "colab": {
          "base_uri": "https://localhost:8080/"
        },
        "id": "C14SmR8T3EAm",
        "outputId": "735fb149-b37d-4f93-8719-c1e89d270f05"
      },
      "execution_count": 11,
      "outputs": [
        {
          "output_type": "stream",
          "name": "stdout",
          "text": [
            "[1 0 1 1 0 1 0 1 1 1 1 0 1 1 0 1 0 1 1 0]\n"
          ]
        }
      ]
    },
    {
      "cell_type": "markdown",
      "source": [
        "# Splitting Data Set"
      ],
      "metadata": {
        "id": "YTlZt34J3U5m"
      }
    },
    {
      "cell_type": "code",
      "source": [
        "from sklearn.model_selection import train_test_split\n",
        "X_train , X_test, y_train, y_test = train_test_split(X,y, test_size = 0.2, random_state = 1)"
      ],
      "metadata": {
        "id": "OAiDawNA3YWw"
      },
      "execution_count": 17,
      "outputs": []
    },
    {
      "cell_type": "code",
      "source": [
        "print(X_train)"
      ],
      "metadata": {
        "colab": {
          "base_uri": "https://localhost:8080/"
        },
        "id": "srbv50kw5Xi8",
        "outputId": "88f397bb-b701-491d-960f-e55cab8a1c9f"
      },
      "execution_count": 18,
      "outputs": [
        {
          "output_type": "stream",
          "name": "stdout",
          "text": [
            "[[0.0 0.0 1.0 0.0 0.0 31.9375 52000.0]\n",
            " [0.0 0.0 0.0 1.0 0.0 27.0 54000.0]\n",
            " [0.0 1.0 0.0 0.0 0.0 40.0 70000.0]\n",
            " [0.0 0.0 0.0 0.0 1.0 34.0 68000.0]\n",
            " [0.0 0.0 1.0 0.0 0.0 29.0 55000.0]\n",
            " [1.0 0.0 0.0 0.0 0.0 30.0 60000.0]\n",
            " [0.0 1.0 0.0 0.0 0.0 26.0 63000.0]\n",
            " [1.0 0.0 0.0 0.0 0.0 25.0 50000.0]\n",
            " [1.0 0.0 0.0 0.0 0.0 32.0 59000.0]\n",
            " [0.0 1.0 0.0 0.0 0.0 36.0 56000.0]\n",
            " [0.0 0.0 0.0 1.0 0.0 28.0 58000.0]\n",
            " [1.0 0.0 0.0 0.0 0.0 31.9375 60500.0]\n",
            " [0.0 0.0 0.0 1.0 0.0 31.0 62000.0]\n",
            " [1.0 0.0 0.0 0.0 0.0 38.0 72000.0]\n",
            " [0.0 0.0 0.0 1.0 0.0 31.9375 75000.0]\n",
            " [0.0 0.0 0.0 1.0 0.0 22.0 60500.0]]\n"
          ]
        }
      ]
    },
    {
      "cell_type": "code",
      "source": [
        "print(X_test)"
      ],
      "metadata": {
        "colab": {
          "base_uri": "https://localhost:8080/"
        },
        "id": "vke0s7tR5X16",
        "outputId": "16d3212e-4821-482c-df5a-5a846b197d9e"
      },
      "execution_count": 19,
      "outputs": [
        {
          "output_type": "stream",
          "name": "stdout",
          "text": [
            "[[0.0 0.0 1.0 0.0 0.0 35.0 60500.0]\n",
            " [0.0 1.0 0.0 0.0 0.0 33.0 66000.0]\n",
            " [0.0 0.0 0.0 0.0 1.0 31.9375 48000.0]\n",
            " [1.0 0.0 0.0 0.0 0.0 45.0 60500.0]]\n"
          ]
        }
      ]
    },
    {
      "cell_type": "code",
      "source": [
        "print(y_train)"
      ],
      "metadata": {
        "colab": {
          "base_uri": "https://localhost:8080/"
        },
        "id": "n_sAiusa5X4L",
        "outputId": "b37f3f91-ac7f-49e6-d07b-ae5d2e8954b6"
      },
      "execution_count": 20,
      "outputs": [
        {
          "output_type": "stream",
          "name": "stdout",
          "text": [
            "[1 0 0 1 1 0 1 1 0 1 1 1 1 1 0 1]\n"
          ]
        }
      ]
    },
    {
      "cell_type": "code",
      "source": [
        "print(y_test)"
      ],
      "metadata": {
        "colab": {
          "base_uri": "https://localhost:8080/"
        },
        "id": "o2_cichH5X6R",
        "outputId": "42f8ff27-24c9-4241-e674-375dee94899c"
      },
      "execution_count": 21,
      "outputs": [
        {
          "output_type": "stream",
          "name": "stdout",
          "text": [
            "[1 0 0 1]\n"
          ]
        }
      ]
    },
    {
      "cell_type": "markdown",
      "source": [
        "# Feature Scaling"
      ],
      "metadata": {
        "id": "Tn5YwoDS76eC"
      }
    },
    {
      "cell_type": "code",
      "source": [
        "from sklearn.preprocessing import StandardScaler\n",
        "sc = StandardScaler()\n",
        "X_train[:,5:] = sc.fit_transform(X_train[:,5:])\n",
        "X_test[:,5:] = sc.fit_transform(X_test[:,5:])"
      ],
      "metadata": {
        "id": "RQwggbzf79jb"
      },
      "execution_count": 23,
      "outputs": []
    },
    {
      "cell_type": "code",
      "source": [
        "print(X_train)"
      ],
      "metadata": {
        "colab": {
          "base_uri": "https://localhost:8080/"
        },
        "id": "javeBd6i-SOt",
        "outputId": "879a1560-6915-48db-98dc-142e0f266fe5"
      },
      "execution_count": 25,
      "outputs": [
        {
          "output_type": "stream",
          "name": "stdout",
          "text": [
            "[[0.0 0.0 1.0 0.0 0.0 0.2332580808646812 -1.2813393735168088]\n",
            " [0.0 0.0 0.0 1.0 0.0 -0.838880879909708 -0.994606087135425]\n",
            " [0.0 1.0 0.0 0.0 0.0 1.9839660041545066 1.2992602039156453]\n",
            " [0.0 0.0 0.0 0.0 1.0 0.6811135961248691 1.0125269175342615]\n",
            " [0.0 0.0 1.0 0.0 0.0 -0.40459674389982886 -0.8512394439447332]\n",
            " [1.0 0.0 0.0 0.0 0.0 -0.18745467589488926 -0.13440622799127366]\n",
            " [0.0 1.0 0.0 0.0 0.0 -1.0560229479146477 0.29569370158080205]\n",
            " [1.0 0.0 0.0 0.0 0.0 -1.273165015919587 -1.5680726598981927]\n",
            " [1.0 0.0 0.0 0.0 0.0 0.2468294601149899 -0.27777287118196553]\n",
            " [0.0 1.0 0.0 0.0 0.0 1.1153977321347484 -0.7078728007540412]\n",
            " [0.0 0.0 0.0 1.0 0.0 -0.6217388119047684 -0.42113951437265745]\n",
            " [1.0 0.0 0.0 0.0 0.0 0.2332580808646812 -0.0627229063959277]\n",
            " [0.0 0.0 0.0 1.0 0.0 0.029687392110050333 0.15232705839011013]\n",
            " [1.0 0.0 0.0 0.0 0.0 1.5496818681446274 1.585993490297029]\n",
            " [0.0 0.0 0.0 1.0 0.0 0.2332580808646812 2.016093419869105]\n",
            " [0.0 0.0 0.0 1.0 0.0 -1.924591219934406 -0.0627229063959277]]\n"
          ]
        }
      ]
    },
    {
      "cell_type": "code",
      "source": [
        "print(X_test)"
      ],
      "metadata": {
        "colab": {
          "base_uri": "https://localhost:8080/"
        },
        "id": "qOzQ-BZq-VAB",
        "outputId": "73cd87cc-09f4-4329-cfc7-a5d8411cbc53"
      },
      "execution_count": 26,
      "outputs": [
        {
          "output_type": "stream",
          "name": "stdout",
          "text": [
            "[[0.0 0.0 1.0 0.0 0.0 -0.2383467698115848 0.26514390667749954]\n",
            " [0.0 1.0 0.0 0.0 0.0 -0.6245288778607349 1.0984533276639268]\n",
            " [0.0 0.0 0.0 0.0 1.0 -0.8296881227618459 -1.6287411410189259]\n",
            " [1.0 0.0 0.0 0.0 0.0 1.6925637704341656 0.26514390667749954]]\n"
          ]
        }
      ]
    }
  ]
}